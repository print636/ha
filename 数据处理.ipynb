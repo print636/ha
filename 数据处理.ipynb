{
 "cells": [
  {
   "cell_type": "markdown",
   "id": "d1d7894b-2153-404c-97a5-249437541b42",
   "metadata": {},
   "source": [
    "# 数据处理"
   ]
  },
  {
   "cell_type": "markdown",
   "id": "7001163d-f6ae-4f88-9d94-03160aee3ce6",
   "metadata": {},
   "source": [
    "## Series"
   ]
  },
  {
   "cell_type": "code",
   "execution_count": null,
   "id": "b3cd6741-0885-4fd2-ac86-9b4ceab25596",
   "metadata": {},
   "outputs": [],
   "source": [
    "import numpy as np\n",
    "import pandas as pd\n",
    "import matplotlib.pyplot as plt\n",
    "import statsmodels.api as sm\n",
    "\n",
    "from pandas import Series, DataFrame"
   ]
  },
  {
   "cell_type": "code",
   "execution_count": null,
   "id": "c9473442-5d1b-4eb5-809f-7587402d09c7",
   "metadata": {
    "scrolled": true
   },
   "outputs": [],
   "source": [
    "s = Series(np.random.randn(10))\n",
    "s"
   ]
  },
  {
   "cell_type": "code",
   "execution_count": null,
   "id": "7e91c3e7-0868-49bb-909a-43214a04d382",
   "metadata": {
    "scrolled": true
   },
   "outputs": [],
   "source": [
    "s[1:3],s[[1,2]],s[2]"
   ]
  },
  {
   "cell_type": "code",
   "execution_count": null,
   "id": "f1baa96b-db34-401a-80ce-cd376680027a",
   "metadata": {},
   "outputs": [],
   "source": [
    "s.index"
   ]
  },
  {
   "cell_type": "code",
   "execution_count": null,
   "id": "bd42ea1b-f225-4bc3-8576-bb97eaa21e12",
   "metadata": {},
   "outputs": [],
   "source": [
    "s1 = s.copy()\n",
    "s1.index = [\"item 0\", \"item 1\", \"item 2\", \"item 3\", \"item 4\", \"item 5\", \"item 6\", \"item 7\", \"item 8\", \"item 9\"]\n",
    "s1"
   ]
  },
  {
   "cell_type": "code",
   "execution_count": null,
   "id": "79343791-d61c-48f7-ba92-dc4844da6f07",
   "metadata": {},
   "outputs": [],
   "source": [
    "s2 = Series(s.values[::-1], index=[\"item 0\", \"item 1\", \"item 2\", \"item 3\", \"item 4\", \"item 5\", \"item 6\", \"item 7\", \"item 8\", \"item 9\"])\n",
    "s2"
   ]
  },
  {
   "cell_type": "code",
   "execution_count": null,
   "id": "9ee9b23f-19d4-4110-8d54-b4081fd91faa",
   "metadata": {},
   "outputs": [],
   "source": [
    "s1 + s2"
   ]
  },
  {
   "cell_type": "code",
   "execution_count": null,
   "id": "e10beccd-f3af-4096-8dee-6c5edc474b87",
   "metadata": {},
   "outputs": [],
   "source": [
    "s3 = pd.Series([\"d\", \"e\"])\n",
    "s4 = pd.Series([\"f\", \"g\"])\n",
    "s5 = pd.concat([s2, s3])\n",
    "s5"
   ]
  },
  {
   "cell_type": "code",
   "execution_count": null,
   "id": "9885b6d1-0f19-4105-b928-e962353f46ab",
   "metadata": {},
   "outputs": [],
   "source": [
    "s5[1]"
   ]
  },
  {
   "cell_type": "markdown",
   "id": "4a4e7e52-686a-46e6-a6bf-424468ed1cbd",
   "metadata": {
    "jp-MarkdownHeadingCollapsed": true
   },
   "source": [
    "### ❓Q1. 我们如何将 `s3` 和 `s4` 和合并在一起，同时保证 `index` 是递增的呢？"
   ]
  },
  {
   "cell_type": "code",
   "execution_count": null,
   "id": "95519780-1919-42c6-bc11-1d109ab8e92a",
   "metadata": {},
   "outputs": [],
   "source": [
    "s4.index = ['2', '3']\n",
    "s6 = pd.concat([s3, s4])\n",
    "s6"
   ]
  },
  {
   "cell_type": "markdown",
   "id": "7628e0c4-905b-4c17-9761-253892e7a63c",
   "metadata": {},
   "source": [
    "## Dataframe"
   ]
  },
  {
   "cell_type": "code",
   "execution_count": null,
   "id": "45893331-c548-4bc9-abb8-80f0308adb8d",
   "metadata": {},
   "outputs": [],
   "source": [
    "df1 = DataFrame([[1,2,3,4,5], [6,7,8,9,10]], columns=[\"a\", \"b\", \"c\", \"d\", \"e\"])\n",
    "df1"
   ]
  },
  {
   "cell_type": "code",
   "execution_count": null,
   "id": "ccd37033-e3f8-4170-b3c5-f80c9a0e05fb",
   "metadata": {},
   "outputs": [],
   "source": [
    "gplay = pd.read_csv(\"googleplaystore.csv\")\n",
    "gplay"
   ]
  },
  {
   "cell_type": "markdown",
   "id": "fde238d3-779d-497e-a4e7-be8a06ad76f6",
   "metadata": {},
   "source": [
    "### ❓Q2. 试去除 `gplay` 中的 `Nan` 数据"
   ]
  },
  {
   "cell_type": "code",
   "execution_count": null,
   "id": "e05414bc-2c72-48a9-b083-638de170510c",
   "metadata": {},
   "outputs": [],
   "source": [
    "gplay.dropna(inplace=True)\n",
    "gplay"
   ]
  },
  {
   "cell_type": "markdown",
   "id": "92589744-2109-471e-a615-c23c411e2702",
   "metadata": {},
   "source": [
    "### ❓Q3. 查看`gplay`中重复的列，试使用`iloc`和`loc`来选中重复的行，并谈谈他们的区别"
   ]
  },
  {
   "cell_type": "code",
   "execution_count": null,
   "id": "6e40ccc0-ebfe-4feb-bafb-fc091644c69f",
   "metadata": {},
   "outputs": [],
   "source": [
    "duplicated_apps = gplay.loc[gplay.duplicated()]\n",
    "\n",
    "print(gplay.duplicated())"
   ]
  },
  {
   "cell_type": "code",
   "execution_count": null,
   "id": "95338aa7-797a-4449-8351-16cc7adfde2d",
   "metadata": {},
   "outputs": [],
   "source": [
    "print(len(duplicated_apps))"
   ]
  },
  {
   "cell_type": "code",
   "execution_count": null,
   "id": "49d29862-ab74-41ad-b882-fd552a5c484e",
   "metadata": {},
   "outputs": [],
   "source": [
    "duplicated_apps"
   ]
  },
  {
   "cell_type": "code",
   "execution_count": null,
   "id": "50b150ce-8c8f-4a82-968e-b42f4e4d8b8f",
   "metadata": {},
   "outputs": [],
   "source": [
    "#duplicated_apps.loc[0]  报错,因为没有标签为‘0’的行"
   ]
  },
  {
   "cell_type": "code",
   "execution_count": null,
   "id": "b131450f-8e32-498e-ae60-0f25eaa3f0a9",
   "metadata": {},
   "outputs": [],
   "source": [
    "first_dup_app_iloc = duplicated_apps.iloc[0]\n",
    "first_dup_app_iloc"
   ]
  },
  {
   "cell_type": "markdown",
   "id": "97e351dd-a031-473e-bfaa-1516f4df83d5",
   "metadata": {},
   "source": [
    "#### ''' Your Understanding Here '''"
   ]
  },
  {
   "cell_type": "code",
   "execution_count": null,
   "id": "48cde5e0-70b1-455d-9a76-9f6f1f51b891",
   "metadata": {},
   "outputs": [],
   "source": [
    "#loc根据索引查找，iloc根据序号查找"
   ]
  },
  {
   "cell_type": "code",
   "execution_count": null,
   "id": "c68de480-21d5-4796-8435-bc3990ce6370",
   "metadata": {},
   "outputs": [],
   "source": [
    "print(gplay.shape)\n",
    "print(gplay.drop_duplicates().shape)"
   ]
  },
  {
   "cell_type": "markdown",
   "id": "f17fc745-557c-4cbd-be99-4b058885bed8",
   "metadata": {},
   "source": [
    "## 读取数据"
   ]
  },
  {
   "cell_type": "code",
   "execution_count": null,
   "id": "f6345434-5b47-4d70-8c11-19ab689cfcf5",
   "metadata": {},
   "outputs": [],
   "source": [
    "df = pd.read_csv(\"Auto.csv\")\n",
    "df"
   ]
  },
  {
   "cell_type": "code",
   "execution_count": null,
   "id": "3a984809-fca7-435d-a8d9-67d38cc0671f",
   "metadata": {},
   "outputs": [],
   "source": [
    "df.dtypes"
   ]
  },
  {
   "cell_type": "code",
   "execution_count": null,
   "id": "4e38b7e7-8375-4f68-8852-0a3fe4aae439",
   "metadata": {},
   "outputs": [],
   "source": [
    "df = df.replace('?', pd.NA)  \n",
    "  \n",
    "df['origin'] = df['origin'].astype('object')  \n",
    "df['year'] = df['year'].astype('object')  \n",
    "  \n",
    "print(df.dtypes)"
   ]
  },
  {
   "cell_type": "code",
   "execution_count": null,
   "id": "1eee0aff-8656-4839-9a96-6d2c685570c7",
   "metadata": {},
   "outputs": [],
   "source": [
    "df.isna().any(axis=1)"
   ]
  },
  {
   "cell_type": "code",
   "execution_count": null,
   "id": "164e60c8-df71-4973-9875-6ccb2a3a42db",
   "metadata": {},
   "outputs": [],
   "source": [
    "df[df.isna().any(axis=1)]"
   ]
  },
  {
   "cell_type": "markdown",
   "id": "bf5289e5-7443-4707-86bb-f2152f2e4a91",
   "metadata": {},
   "source": [
    "### ❓Q5. 将 `df` 中的所有含有 `Nan` 的行全部移除"
   ]
  },
  {
   "cell_type": "code",
   "execution_count": null,
   "id": "564a419f-957c-42e0-b9dc-f5917a00f41e",
   "metadata": {},
   "outputs": [],
   "source": [
    "df = df[~df.isnull().any(axis=1)]\n",
    "df"
   ]
  },
  {
   "cell_type": "code",
   "execution_count": null,
   "id": "ab599294-1189-4b82-a0c9-3d2c0c444648",
   "metadata": {},
   "outputs": [],
   "source": [
    "X = df[\"horsepower\"]\n",
    "y = df[\"mpg\"]\n",
    "X = sm.add_constant(X)\n",
    "model1 = sm.OLS(y,X.astype(float)).fit()"
   ]
  },
  {
   "cell_type": "markdown",
   "id": "0db41123-f26f-4fda-b0fd-e7ced32aaeb9",
   "metadata": {},
   "source": [
    "#### ❓Q6. 了解 `matplotlib`，试对上述的代码的预测结果进行可视化处理"
   ]
  },
  {
   "cell_type": "code",
   "execution_count": null,
   "id": "b236060f-d5a6-4072-92f8-6b5d7f014902",
   "metadata": {},
   "outputs": [],
   "source": [
    "plt.scatter(df[\"horsepower\"], df[\"mpg\"], label='Actual Data')  \n",
    "X = X.astype(float)\n",
    "predicted_y = model1.predict(X)  \n",
    "\n",
    "plt.plot(df[\"horsepower\"], predicted_y, color='red', label='Predicted Data')  \n",
    "  \n",
    "plt.xlabel('Horsepower')  \n",
    "plt.ylabel('mpg')    \n",
    "\n",
    "plt.legend()\n",
    "plt.show()\n"
   ]
  },
  {
   "cell_type": "code",
   "execution_count": null,
   "id": "0d5eb027-83fc-41aa-80c8-650f402c35a1",
   "metadata": {},
   "outputs": [],
   "source": [
    "from sklearn.linear_model import LogisticRegression\n",
    "from sklearn.model_selection import train_test_split\n",
    "from sklearn.metrics import accuracy_score"
   ]
  },
  {
   "cell_type": "code",
   "execution_count": null,
   "id": "3fb83179-9930-499d-bfaf-7cc6c54aabc1",
   "metadata": {},
   "outputs": [],
   "source": [
    "df = pd.read_csv(\"email_spam.csv\")\n",
    "df"
   ]
  },
  {
   "cell_type": "markdown",
   "id": "9096e43a-d43e-45d9-ad92-14da336b2790",
   "metadata": {},
   "source": [
    "#### ❓Q7. 现在我们将考虑对垃圾邮件进行分类。但在生成模型之前，首先将所有列数据转换为数字。具体地说:\n",
    "- `no` 修改为 `0`，`yes` 修改为 `1`\n",
    "- 为 `format` 和 `number` 使用虚拟变量编码(你可以使用 `pd.get_dummies()` 来生成虚拟变量)"
   ]
  },
  {
   "cell_type": "code",
   "execution_count": null,
   "id": "2aac4cd2-7cee-4678-b198-b843bd49c800",
   "metadata": {},
   "outputs": [],
   "source": [
    "df = df.replace({'no': 0, 'yes': 1})  \n",
    "\n",
    "df = pd.get_dummies(df, columns=['format', 'number'])  \n",
    " \n",
    "X = df.iloc[:,1:] \n",
    "y = df[\"spam\"]  \n",
    "df"
   ]
  },
  {
   "cell_type": "markdown",
   "id": "60c2a0e7-804b-49da-bfba-dfcdf3aff06e",
   "metadata": {
    "jp-MarkdownHeadingCollapsed": true
   },
   "source": [
    "#### ❓Q8. 使用 `train_test_split()` 将数据集划分为`70%`的训练集和`30%`的测试集(设置 `random_test=123` 以确保我们可以复制分割)"
   ]
  },
  {
   "cell_type": "code",
   "execution_count": null,
   "id": "378edff7-f371-4f5b-a626-72967dc30c99",
   "metadata": {},
   "outputs": [],
   "source": [
    "X_train, X_test, y_train, y_test = train_test_split(X, y, test_size=0.3, random_state=123)"
   ]
  },
  {
   "cell_type": "markdown",
   "id": "f4c1a5ce-e6c0-4220-8225-870ddcf427e5",
   "metadata": {},
   "source": [
    "#### ❓Q9. 使用逻辑回归的模型来进行预测，同时看看你的准确率如何"
   ]
  },
  {
   "cell_type": "code",
   "execution_count": null,
   "id": "97829bf7-1e14-44fb-98dd-7333085f1193",
   "metadata": {},
   "outputs": [],
   "source": [
    "model = LogisticRegression(max_iter=100000)  \n",
    "   \n",
    "model.fit(X_train, y_train)  \n",
    "  \n",
    "y_pred = model.predict(X_test)  \n",
    "  \n",
    "y_pred_score = accuracy_score(y_test, y_pred)  \n",
    "  \n",
    "print(\"Test Accuracy: \", y_pred_score)"
   ]
  },
  {
   "cell_type": "markdown",
   "id": "3e1aefef-6aff-4135-9e4e-ff1d3a285f35",
   "metadata": {},
   "source": [
    "#### ❓Q10. 由于数据是不平衡的，最好生成混淆矩阵。了解什么是混淆矩阵以及如何在sklearn上实现它"
   ]
  },
  {
   "cell_type": "code",
   "execution_count": null,
   "id": "e37fdb03-b951-4b82-9573-00df7979c4cc",
   "metadata": {},
   "outputs": [],
   "source": [
    "from sklearn.metrics import confusion_matrix,ConfusionMatrixDisplay\n",
    "confusion_matrix(y_test, y_pred)\n",
    "ConfusionMatrixDisplay(confusion_matrix(y_test,y_pred)).plot()"
   ]
  },
  {
   "cell_type": "code",
   "execution_count": null,
   "id": "6ef8d863-92d8-4926-a357-a94d19e52d9e",
   "metadata": {},
   "outputs": [],
   "source": []
  }
 ],
 "metadata": {
  "kernelspec": {
   "display_name": "Python 3 (ipykernel)",
   "language": "python",
   "name": "python3"
  },
  "language_info": {
   "codemirror_mode": {
    "name": "ipython",
    "version": 3
   },
   "file_extension": ".py",
   "mimetype": "text/x-python",
   "name": "python",
   "nbconvert_exporter": "python",
   "pygments_lexer": "ipython3",
   "version": "3.11.5"
  }
 },
 "nbformat": 4,
 "nbformat_minor": 5
}
